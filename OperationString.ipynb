{
 "cells": [
  {
   "cell_type": "markdown",
   "metadata": {},
   "source": [
    "# Problem\n",
    "Consider a string representing a series a numbers and operations with potentially parenthesis.\n",
    "\n",
    "We want a function to return the result of these operations."
   ]
  },
  {
   "cell_type": "code",
   "execution_count": 69,
   "metadata": {},
   "outputs": [],
   "source": [
    "# Simple answer with exec function\n",
    "def exec_solution(s):\n",
    "    exec('print({})'.format(s))"
   ]
  },
  {
   "cell_type": "code",
   "execution_count": 70,
   "metadata": {},
   "outputs": [],
   "source": [
    "# Less simple solution\n",
    "from operator import mul, add, sub, truediv\n",
    "from functools import reduce\n",
    "operator_mapping = {'+': add, '-': sub, '*': mul, '\\\\': truediv}\n",
    "def solve(s):\n",
    "    for op in operator_mapping.keys():\n",
    "        if op in s:\n",
    "            op_func = operator_mapping[op]\n",
    "            return reduce(op_func, (map(solve, s.split(op))))\n",
    "    return float(s)"
   ]
  },
  {
   "cell_type": "code",
   "execution_count": 76,
   "metadata": {},
   "outputs": [
    {
     "name": "stdout",
     "output_type": "stream",
     "text": [
      "4876.0\n",
      "4876\n"
     ]
    }
   ],
   "source": [
    "s = \"2323+213*12-3\"\n",
    "print(solve(s))\n",
    "exec_solution(s)"
   ]
  }
 ],
 "metadata": {
  "kernelspec": {
   "display_name": "Python 3",
   "language": "python",
   "name": "python3"
  },
  "language_info": {
   "codemirror_mode": {
    "name": "ipython",
    "version": 3
   },
   "file_extension": ".py",
   "mimetype": "text/x-python",
   "name": "python",
   "nbconvert_exporter": "python",
   "pygments_lexer": "ipython3",
   "version": "3.6.7"
  }
 },
 "nbformat": 4,
 "nbformat_minor": 2
}
