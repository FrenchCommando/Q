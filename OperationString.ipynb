{
 "cells": [
  {
   "cell_type": "markdown",
   "metadata": {},
   "source": [
    "# Problem\n",
    "Consider a string representing a series a numbers and operations with potentially parenthesis.\n",
    "\n",
    "We want a function to return the result of these operations."
   ]
  },
  {
   "cell_type": "code",
   "execution_count": 1,
   "metadata": {},
   "outputs": [],
   "source": [
    "# Simple answer with exec function\n",
    "def exec_solution(s):\n",
    "    exec('print({})'.format(s))"
   ]
  },
  {
   "cell_type": "code",
   "execution_count": 41,
   "metadata": {},
   "outputs": [],
   "source": [
    "# Less simple solution\n",
    "from operator import mul, add, sub, truediv\n",
    "from functools import reduce\n",
    "operator_mapping = {'+': add, '-': sub, '*': mul, '\\\\': truediv}\n",
    "def solve(s):\n",
    "    i = s.find(')')\n",
    "    if i != -1:  # means there is a bracket\n",
    "        j = s[:i].rfind('(')\n",
    "        return solve(s[:j] + str(solve(s[j+1:i])) + s[i+1:])\n",
    "    for op in operator_mapping.keys():\n",
    "        if op in s:\n",
    "            op_func = operator_mapping[op]\n",
    "            return reduce(op_func, (map(solve, s.split(op))))\n",
    "    try:\n",
    "        return float(s)\n",
    "    except ValueError:\n",
    "        return 0  # for starting '-' and '+'"
   ]
  },
  {
   "cell_type": "code",
   "execution_count": 42,
   "metadata": {},
   "outputs": [
    {
     "name": "stdout",
     "output_type": "stream",
     "text": [
      "2550.677\n",
      "2550.677\n"
     ]
    }
   ],
   "source": [
    "s = \"-2.323+213*12-3\"\n",
    "print(solve(s))\n",
    "exec_solution(s)"
   ]
  },
  {
   "cell_type": "code",
   "execution_count": 43,
   "metadata": {
    "scrolled": false
   },
   "outputs": [
    {
     "name": "stdout",
     "output_type": "stream",
     "text": [
      "-7121487.677\n",
      "-7121487.677\n"
     ]
    }
   ],
   "source": [
    "s = \"2.323-(23+(12+34)*34*4555)+213*12-3\"\n",
    "print(solve(s))\n",
    "exec_solution(s)"
   ]
  }
 ],
 "metadata": {
  "kernelspec": {
   "display_name": "Python 3",
   "language": "python",
   "name": "python3"
  },
  "language_info": {
   "codemirror_mode": {
    "name": "ipython",
    "version": 3
   },
   "file_extension": ".py",
   "mimetype": "text/x-python",
   "name": "python",
   "nbconvert_exporter": "python",
   "pygments_lexer": "ipython3",
   "version": "3.6.7"
  }
 },
 "nbformat": 4,
 "nbformat_minor": 2
}
